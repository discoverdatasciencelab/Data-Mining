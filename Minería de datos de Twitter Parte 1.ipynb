{
 "cells": [
  {
   "cell_type": "code",
   "execution_count": 1,
   "metadata": {},
   "outputs": [],
   "source": [
    "# Antes de importar tweepy es necesario instalar tweepy (ver la explicación en el post).\n",
    "import tweepy"
   ]
  },
  {
   "cell_type": "code",
   "execution_count": 2,
   "metadata": {},
   "outputs": [],
   "source": [
    "from tweepy import OAuthHandler"
   ]
  },
  {
   "cell_type": "code",
   "execution_count": 3,
   "metadata": {},
   "outputs": [],
   "source": [
    "# Ahora procedemos a autenticarnos usando el API Key, el API secret Key, el Access token y el Access token secret que se generaron al crear nuestra aplicación en Twitter y\n",
    "#reemplazamos las equis (x) tal como se indica en el post\n",
    "api_key = \"xxxxXXXXXXXXXXxxxxxxxxx\"\n",
    "api_secret = \"xxxxXXXXXXXXXXxxxxxxxxx\"\n",
    "access_token = \"xxxxXXXXXXXXXXxxxxxxxxx\"\n",
    "access_secret = \"xxxxXXXXXXXXXXxxxxxxxxx\"\n",
    "auth = OAuthHandler(api_key, api_secret)\n",
    "auth.set_access_token(access_token, access_secret)\n",
    "api = tweepy.API(auth) \n"
   ]
  },
  {
   "cell_type": "code",
   "execution_count": null,
   "metadata": {},
   "outputs": [],
   "source": [
    "# Nuestra variable api es el punto de entrada a Twitter. \n",
    "#Usando esta variable ahora vamos a leer el timeline de nuestra cuenta de Twitter (página de inicio de Twitter).\n",
    "public_tweets = api.home_timeline(10)\n",
    "#Hace un loop por cada uno de los tweets optenidos\n",
    "for tweet in public_tweets:\n",
    "# imprimir el texto de cada uno de los tweets\n",
    "    print (tweet.text)"
   ]
  },
  {
   "cell_type": "code",
   "execution_count": null,
   "metadata": {},
   "outputs": [],
   "source": [
    "# Obtener un listado de los usuarios a los cuales estamos siguiendo desde nuestra cuenta de Twitter\n",
    "friends = api.friends()\n",
    "#Hace un loop por cada uno de los tweets obtenidos\n",
    "for friend in friends:\n",
    "# Imprimir a los usuarios que seguimos y seguidores.\n",
    "    print(friend.name)"
   ]
  },
  {
   "cell_type": "code",
   "execution_count": 7,
   "metadata": {},
   "outputs": [
    {
     "name": "stdout",
     "output_type": "stream",
     "text": [
      "RT @realDonaldTrump: MAKE AMERICA GREAT AGAIN!\n",
      "RT @realDonaldTrump: AMERICA FIRST!\n",
      "“79% of these decisions have been overturned in the 9th Circuit.” @FoxNews  A terrible, costly and dangerous disgra… https://t.co/0fvZgB3qwG\n",
      "There are a lot of CRIMINALS in the Caravan. We will stop them. Catch and Detain! Judicial Activism, by people who… https://t.co/BwGiNXe6R0\n",
      "“Thank you to President Trump on the Border. No American President has ever done this before.” Hector Garza, National Border Patrol Council\n",
      ".....are so many opposing view (on Border and Safety) cases filed there, and why are a vast number of those cases o… https://t.co/JlyYHGX2SR\n",
      "Sorry Chief Justice John Roberts, but you do indeed have “Obama judges,” and they have a much different point of vi… https://t.co/gIByfadPmu\n",
      "Great new book out, “Mad Politics: Keeping Your Sanity in a World Gone Crazy” by @RealDrGina Loudon. Go out and get… https://t.co/yWaBUwHob1\n",
      "“‘Trump Imitation Syndrome’ is afflicting the president’s liberal enemies” \n",
      "\n",
      "Thank you @MGoodwin_NYPost! https://t.co/KpmsrKCaBZ\n",
      "MAKE AMERICA GREAT AGAIN!\n"
     ]
    }
   ],
   "source": [
    "# Extraer los últimos 10 tweets de un usuario específico (Donald Trump)\n",
    "# Para esto vamos a utilizar el método user_timeline\n",
    "# usuario de twitter\n",
    "\n",
    "name = \"realDonaldTrump\"\n",
    "# número de tweets\n",
    "tweetCount = 10\n",
    "resultado = api.user_timeline(id=name, count=tweetCount)\n",
    "for tweet in resultado:\n",
    "    print(tweet.text)"
   ]
  },
  {
   "cell_type": "code",
   "execution_count": 8,
   "metadata": {},
   "outputs": [],
   "source": []
  },
  {
   "cell_type": "code",
   "execution_count": null,
   "metadata": {},
   "outputs": [],
   "source": []
  },
  {
   "cell_type": "code",
   "execution_count": null,
   "metadata": {},
   "outputs": [],
   "source": []
  }
 ],
 "metadata": {
  "kernelspec": {
   "display_name": "Python 3",
   "language": "python",
   "name": "python3"
  },
  "language_info": {
   "codemirror_mode": {
    "name": "ipython",
    "version": 3
   },
   "file_extension": ".py",
   "mimetype": "text/x-python",
   "name": "python",
   "nbconvert_exporter": "python",
   "pygments_lexer": "ipython3",
   "version": "3.6.5"
  }
 },
 "nbformat": 4,
 "nbformat_minor": 2
}
